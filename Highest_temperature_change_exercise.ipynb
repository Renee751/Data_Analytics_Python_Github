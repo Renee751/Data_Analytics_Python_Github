{
  "nbformat": 4,
  "nbformat_minor": 0,
  "metadata": {
    "colab": {
      "provenance": [],
      "mount_file_id": "1BgsZ1qRK6rBGpuRiNObn3rmGfd1NQggF",
      "authorship_tag": "ABX9TyMwjq/zShmAtDQqYBT2RzEY",
      "include_colab_link": true
    },
    "kernelspec": {
      "name": "python3",
      "display_name": "Python 3"
    },
    "language_info": {
      "name": "python"
    }
  },
  "cells": [
    {
      "cell_type": "markdown",
      "metadata": {
        "id": "view-in-github",
        "colab_type": "text"
      },
      "source": [
        "<a href=\"https://colab.research.google.com/github/Renee751/Data_Analytics_Python_Github/blob/main/Highest_temperature_change_exercise.ipynb\" target=\"_parent\"><img src=\"https://colab.research.google.com/assets/colab-badge.svg\" alt=\"Open In Colab\"/></a>"
      ]
    },
    {
      "cell_type": "code",
      "source": [
        "import pandas as pd\n",
        "from google.colab import drive\n",
        "drive.mount('/content/drive')"
      ],
      "metadata": {
        "colab": {
          "base_uri": "https://localhost:8080/"
        },
        "id": "etjR7OewY0UB",
        "outputId": "48a3a4e9-7204-458f-e71e-c9535a52f454"
      },
      "execution_count": 20,
      "outputs": [
        {
          "output_type": "stream",
          "name": "stdout",
          "text": [
            "Drive already mounted at /content/drive; to attempt to forcibly remount, call drive.mount(\"/content/drive\", force_remount=True).\n"
          ]
        }
      ]
    },
    {
      "cell_type": "code",
      "execution_count": null,
      "metadata": {
        "id": "GkEAw-xWlusS"
      },
      "outputs": [],
      "source": [
        "path = \"/content/drive/MyDrive/Colab Notebooks/Environment_Temperature_change_E_All_Data_NOFLAG.csv\"\n",
        "df = pd.read_csv(path, encoding='ISO-8859-1')"
      ]
    },
    {
      "cell_type": "code",
      "source": [
        "# 1. Remove all rows with 'Element' = 'Standard Deviation'\n",
        "# 2. Romove column Element\n",
        "# 3. Remove all, except 'meteorological year' in 'months'\n",
        "# 4. Area code < 5000 are countries\n",
        "\n",
        "df2 = df.loc[(df['Months'] == 'Meteorological year') & (df['Element'] == 'Temperature change') & (df['Area Code'] < 5000)]\n",
        "\n",
        "# index = area\n",
        "# remove: 'Area Code', 'Months Code', 'Months', 'Element Code', 'Element', 'Unit'\n",
        "\n",
        "df3 = df2.drop(columns = ['Area Code', 'Months Code', 'Months', 'Element Code', 'Element', 'Unit'])\n",
        "df4 = df3.set_index('Area')"
      ],
      "metadata": {
        "id": "5dNPriZrbzRJ"
      },
      "execution_count": 32,
      "outputs": []
    },
    {
      "cell_type": "markdown",
      "source": [
        "# Which 3 countries had the biggest change in temperatures looking at 10 year moving averages (10YMA) between 1961 and 2019?\n",
        "\n",
        "For example: a country had a 10YMA of -3 in 1970 and a 10YMA of +8 in 2018 the change was 11.\n",
        "\n",
        "If that same country had a 10YMA of 0 in 1965 the biggest change is still 11. If that same country had a 10YMA of +7 in 2019 the biggest change is still 11."
      ],
      "metadata": {
        "id": "o1Z6mOZMbO05"
      }
    },
    {
      "cell_type": "code",
      "source": [
        "# Moving average: voor elk land moving average berekenen.\n",
        "# 1. Axis = 1 aangezien de moving average over de kolommen gaat\n",
        "# 2. Center = True om moving average met de jaren ervoor én erna te pakken\n",
        "# 3. min_periods = 5 zodat we van alle jaartallen een MA hebben\n",
        "\n",
        "df5 = df4.rolling(window=10,axis='columns', center =True, min_periods=5).mean()\n",
        "df5['Max_MA'] = df5.max(axis='columns')\n",
        "moving_average = df5['Max_MA']\n",
        "top_3_countries = moving_average.nlargest(3, 'all')\n",
        "top_3_countries"
      ],
      "metadata": {
        "colab": {
          "base_uri": "https://localhost:8080/"
        },
        "id": "vCd4g3Ikf2IP",
        "outputId": "1be7e8a0-d6a2-41f2-dd88-04c7855644ed"
      },
      "execution_count": 80,
      "outputs": [
        {
          "output_type": "execute_result",
          "data": {
            "text/plain": [
              "Area\n",
              "Svalbard and Jan Mayen Islands    3.742667\n",
              "Czechia                           2.253167\n",
              "Austria                           2.207667\n",
              "Name: Max_MA, dtype: float64"
            ]
          },
          "metadata": {},
          "execution_count": 80
        }
      ]
    }
  ]
}